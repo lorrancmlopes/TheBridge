{
 "cells": [
  {
   "cell_type": "code",
   "execution_count": 1,
   "id": "3f11906d",
   "metadata": {},
   "outputs": [
    {
     "name": "stdout",
     "output_type": "stream",
     "text": [
      "Requirement already satisfied: xlrd in /home/leticiacb/Documents/environments/jupyterenv/lib/python3.10/site-packages (2.0.1)\n",
      "\n",
      "\u001b[1m[\u001b[0m\u001b[34;49mnotice\u001b[0m\u001b[1;39;49m]\u001b[0m\u001b[39;49m A new release of pip available: \u001b[0m\u001b[31;49m22.1.2\u001b[0m\u001b[39;49m -> \u001b[0m\u001b[32;49m22.3.1\u001b[0m\n",
      "\u001b[1m[\u001b[0m\u001b[34;49mnotice\u001b[0m\u001b[1;39;49m]\u001b[0m\u001b[39;49m To update, run: \u001b[0m\u001b[32;49mpip install --upgrade pip\u001b[0m\n"
     ]
    }
   ],
   "source": [
    "!pip install xlrd"
   ]
  },
  {
   "cell_type": "code",
   "execution_count": 3,
   "id": "2423075d",
   "metadata": {},
   "outputs": [
    {
     "ename": "XLRDError",
     "evalue": "Excel xlsx file; not supported",
     "output_type": "error",
     "traceback": [
      "\u001b[0;31m---------------------------------------------------------------------------\u001b[0m",
      "\u001b[0;31mXLRDError\u001b[0m                                 Traceback (most recent call last)",
      "Input \u001b[0;32mIn [3]\u001b[0m, in \u001b[0;36m<cell line: 15>\u001b[0;34m()\u001b[0m\n\u001b[1;32m      2\u001b[0m \u001b[38;5;28;01mimport\u001b[39;00m \u001b[38;5;21;01mmath\u001b[39;00m\n\u001b[1;32m      4\u001b[0m \u001b[38;5;66;03m# Definições:\u001b[39;00m\n\u001b[1;32m      5\u001b[0m \n\u001b[1;32m      6\u001b[0m \u001b[38;5;66;03m# nn  : Número de nós\u001b[39;00m\n\u001b[0;32m   (...)\u001b[0m\n\u001b[1;32m     12\u001b[0m \u001b[38;5;66;03m# nr  : Número de restrições\u001b[39;00m\n\u001b[1;32m     13\u001b[0m \u001b[38;5;66;03m# R   : Matriz de restrições\u001b[39;00m\n\u001b[0;32m---> 15\u001b[0m [nn , N , nm , Inc , nc , F , nr , R] \u001b[38;5;241m=\u001b[39m \u001b[43mimporta\u001b[49m\u001b[43m(\u001b[49m\u001b[38;5;124;43m'\u001b[39;49m\u001b[38;5;124;43mentrada.xlsx\u001b[39;49m\u001b[38;5;124;43m'\u001b[39;49m\u001b[43m)\u001b[49m\n\u001b[1;32m     17\u001b[0m \u001b[38;5;28mprint\u001b[39m(\u001b[38;5;124mf\u001b[39m\u001b[38;5;124m\"\u001b[39m\u001b[38;5;124m > Número de nós = \u001b[39m\u001b[38;5;132;01m{\u001b[39;00mnn\u001b[38;5;132;01m}\u001b[39;00m\u001b[38;5;124m\"\u001b[39m);\n\u001b[1;32m     18\u001b[0m \u001b[38;5;28mprint\u001b[39m(\u001b[38;5;124mf\u001b[39m\u001b[38;5;124m\"\u001b[39m\u001b[38;5;124m > Matriz de Coordenasa de nós = \u001b[39m\u001b[38;5;130;01m\\n\u001b[39;00m\u001b[38;5;124m \u001b[39m\u001b[38;5;132;01m{\u001b[39;00mN\u001b[38;5;132;01m}\u001b[39;00m\u001b[38;5;124m\"\u001b[39m);\n",
      "File \u001b[0;32m~/Documents/5_Semestre/TransCal/APS4/funcoesTermosol.py:62\u001b[0m, in \u001b[0;36mimporta\u001b[0;34m(entradaNome)\u001b[0m\n\u001b[1;32m     59\u001b[0m \u001b[38;5;28;01mimport\u001b[39;00m \u001b[38;5;21;01mnumpy\u001b[39;00m \u001b[38;5;28;01mas\u001b[39;00m \u001b[38;5;21;01mnp\u001b[39;00m\n\u001b[1;32m     60\u001b[0m \u001b[38;5;28;01mimport\u001b[39;00m \u001b[38;5;21;01mxlrd\u001b[39;00m\n\u001b[0;32m---> 62\u001b[0m arquivo \u001b[38;5;241m=\u001b[39m \u001b[43mxlrd\u001b[49m\u001b[38;5;241;43m.\u001b[39;49m\u001b[43mopen_workbook\u001b[49m\u001b[43m(\u001b[49m\u001b[43mentradaNome\u001b[49m\u001b[43m)\u001b[49m\n\u001b[1;32m     64\u001b[0m \u001b[38;5;66;03m################################################## Ler os nos\u001b[39;00m\n\u001b[1;32m     65\u001b[0m nos \u001b[38;5;241m=\u001b[39m arquivo\u001b[38;5;241m.\u001b[39msheet_by_name(\u001b[38;5;124m'\u001b[39m\u001b[38;5;124mNos\u001b[39m\u001b[38;5;124m'\u001b[39m)\n",
      "File \u001b[0;32m~/Documents/environments/jupyterenv/lib/python3.10/site-packages/xlrd/__init__.py:170\u001b[0m, in \u001b[0;36mopen_workbook\u001b[0;34m(filename, logfile, verbosity, use_mmap, file_contents, encoding_override, formatting_info, on_demand, ragged_rows, ignore_workbook_corruption)\u001b[0m\n\u001b[1;32m    167\u001b[0m \u001b[38;5;66;03m# We have to let unknown file formats pass through here, as some ancient\u001b[39;00m\n\u001b[1;32m    168\u001b[0m \u001b[38;5;66;03m# files that xlrd can parse don't start with the expected signature.\u001b[39;00m\n\u001b[1;32m    169\u001b[0m \u001b[38;5;28;01mif\u001b[39;00m file_format \u001b[38;5;129;01mand\u001b[39;00m file_format \u001b[38;5;241m!=\u001b[39m \u001b[38;5;124m'\u001b[39m\u001b[38;5;124mxls\u001b[39m\u001b[38;5;124m'\u001b[39m:\n\u001b[0;32m--> 170\u001b[0m     \u001b[38;5;28;01mraise\u001b[39;00m XLRDError(FILE_FORMAT_DESCRIPTIONS[file_format]\u001b[38;5;241m+\u001b[39m\u001b[38;5;124m'\u001b[39m\u001b[38;5;124m; not supported\u001b[39m\u001b[38;5;124m'\u001b[39m)\n\u001b[1;32m    172\u001b[0m bk \u001b[38;5;241m=\u001b[39m open_workbook_xls(\n\u001b[1;32m    173\u001b[0m     filename\u001b[38;5;241m=\u001b[39mfilename,\n\u001b[1;32m    174\u001b[0m     logfile\u001b[38;5;241m=\u001b[39mlogfile,\n\u001b[0;32m   (...)\u001b[0m\n\u001b[1;32m    182\u001b[0m     ignore_workbook_corruption\u001b[38;5;241m=\u001b[39mignore_workbook_corruption,\n\u001b[1;32m    183\u001b[0m )\n\u001b[1;32m    185\u001b[0m \u001b[38;5;28;01mreturn\u001b[39;00m bk\n",
      "\u001b[0;31mXLRDError\u001b[0m: Excel xlsx file; not supported"
     ]
    }
   ],
   "source": [
    "from funcoesTermosol import importa\n",
    "import math\n",
    "\n",
    "# Definições:\n",
    "\n",
    "# nn  : Número de nós\n",
    "# N   : Matriz coordenada de nós\n",
    "# nm  : Número de elementos\n",
    "# Inc : Incidência\n",
    "# nc  : Número de cargas\n",
    "# F   : Forças\n",
    "# nr  : Número de restrições\n",
    "# R   : Matriz de restrições\n",
    "\n",
    "[nn , N , nm , Inc , nc , F , nr , R] = importa('entrada.xlsx')\n",
    "\n",
    "print(f\" > Número de nós = {nn}\");\n",
    "print(f\" > Matriz de Coordenasa de nós = \\n {N}\");\n",
    "\n",
    "print(f\" > Número de elementos = {nm}\");\n",
    "print(f\" > Matriz de Incidência = \\n {Inc}\");\n",
    "\n",
    "print(f\" > Número de cargas = {nc}\");\n",
    "print(f\" > Vetor de Forças = \\n {F}\");\n",
    "\n",
    "print(f\" > Número de restrições = {nr}\");\n",
    "print(f\" > Matriz de Restrições = \\n {R}\");"
   ]
  },
  {
   "cell_type": "code",
   "execution_count": null,
   "id": "7e8ac9c2",
   "metadata": {},
   "outputs": [],
   "source": [
    "class Node:\n",
    "    '''\n",
    "    Classe representante de um nó.\n",
    "    \n",
    "    > id        : Identificador único\n",
    "    > (x,y)     : Posicionamento no plano 2D\n",
    "    > gl        : Graus de liberdade do no (em x, em y)\n",
    "    > restricao : lista de restricao de movimento booleana (em x, em y) \n",
    "    \n",
    "    '''\n",
    "    \n",
    "    def __init__(self , id , x , y , g_liberty , restrict_mov):\n",
    "        \n",
    "        self.id = id\n",
    "        self.x = x\n",
    "        self.y = y\n",
    "        self.gl = g_liberty\n",
    "        seld.restriction = restrict_mov\n",
    "        \n",
    "    def distance(self , node):\n",
    "        return sqrt((node.x - self.x)**2 + (node.y - self.y)**2)\n",
    "    \n",
    "    def show_node(self):\n",
    "        print(f\" >> ID : [{self.id}]\")\n",
    "        print(f\" >> Coordenadas : ({self.x},{self.y})\")\n",
    "        print(f\" >> Graus liberdade :  [{self.gl[0]},{self.gl[1]}]\")\n",
    "        print(f\" >> Restricao :  x ={self.restriction[0]} e y ={self.restriction[1]}\")"
   ]
  },
  {
   "cell_type": "code",
   "execution_count": null,
   "id": "62540704",
   "metadata": {},
   "outputs": [],
   "source": [
    "class Element:\n",
    "    '''\n",
    "    Classe representante de um elemento barra simples\n",
    "    \n",
    "    node1 - Nó que forma elemento\n",
    "    node2 - Nó que forma elemento \n",
    "    young_module  - Módulo de eleasticidade do elemento\n",
    "    area - área transversal\n",
    "    \n",
    "    '''\n",
    "    \n",
    "    def __init__(self, Node: node1 , Node: node2 , young_module , area):\n",
    "        \n",
    "        self.n1 = node1\n",
    "        self.n2 = node2\n",
    "        self.E  = young_module\n",
    "        self.A  = area\n",
    "         \n",
    "    def length(self):\n",
    "        '''\n",
    "        Tamanho do elemento em metros\n",
    "        '''\n",
    "        return self.n1.distance(self.n2)\n",
    "    \n",
    "    def stiffness_matrix(self):\n",
    "        '''\n",
    "        Calcula matriz de rigidez do elemento\n",
    "        '''\n",
    "        ..."
   ]
  }
 ],
 "metadata": {
  "kernelspec": {
   "display_name": "Python 3 (ipykernel)",
   "language": "python",
   "name": "python3"
  },
  "language_info": {
   "codemirror_mode": {
    "name": "ipython",
    "version": 3
   },
   "file_extension": ".py",
   "mimetype": "text/x-python",
   "name": "python",
   "nbconvert_exporter": "python",
   "pygments_lexer": "ipython3",
   "version": "3.10.6"
  }
 },
 "nbformat": 4,
 "nbformat_minor": 5
}
