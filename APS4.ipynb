{
 "cells": [
  {
   "cell_type": "code",
   "execution_count": 6,
   "metadata": {},
   "outputs": [],
   "source": [
    "#!pip install xlrd"
   ]
  },
  {
   "cell_type": "code",
   "execution_count": 73,
   "metadata": {},
   "outputs": [
    {
     "name": "stdout",
     "output_type": "stream",
     "text": [
      " > Número de nós = 3\n",
      " > Matriz de Coordenasa de nós (x,y) = \n",
      " [[0.  0.  0.3]\n",
      " [0.  0.4 0.4]]\n",
      "\n",
      "\n",
      " > Número de elementos = 3\n",
      " > Matriz de Incidência (no1, no2 , E[Pa] , A[m²])= \n",
      " [[1.0e+00 2.0e+00 2.1e+11 2.0e-04]\n",
      " [2.0e+00 3.0e+00 2.1e+11 2.0e-04]\n",
      " [3.0e+00 1.0e+00 2.1e+11 2.0e-04]]\n",
      "\n",
      "\n",
      " > Número de cargas = 2\n",
      " > Vetor de Forças = \n",
      " [[   0.]\n",
      " [   0.]\n",
      " [   0.]\n",
      " [   0.]\n",
      " [ 150.]\n",
      " [-100.]]\n",
      "\n",
      "\n",
      " > Número de restrições = 3\n",
      " > Matriz de Restrições = \n",
      " [[0.]\n",
      " [2.]\n",
      " [3.]]\n"
     ]
    }
   ],
   "source": [
    "from funcoesTermosol import importa , plota\n",
    "from math import sqrt\n",
    "import numpy as np\n",
    "\n",
    "# Definições:\n",
    "\n",
    "# nn  : Número de nós\n",
    "# N   : Matriz coordenada de nós\n",
    "# nm  : Número de elementos\n",
    "# Inc : Incidência\n",
    "# nc  : Número de cargas\n",
    "# F   : Forças\n",
    "# nr  : Número de restrições\n",
    "# R   : Matriz de restrições\n",
    "\n",
    "[nn , N , nm , Inc , nc , F , nr , R] = importa('entrada.xlsx')\n",
    "\n",
    "print(f\" > Número de nós = {nn}\");\n",
    "print(f\" > Matriz de Coordenasa de nós (x,y) = \\n {N}\");\n",
    "print(\"\\n\")\n",
    "print(f\" > Número de elementos = {nm}\");\n",
    "print(f\" > Matriz de Incidência (no1, no2 , E[Pa] , A[m²])= \\n {Inc}\");\n",
    "print(\"\\n\")\n",
    "print(f\" > Número de cargas = {nc}\");\n",
    "print(f\" > Vetor de Forças = \\n {F}\");\n",
    "print(\"\\n\")\n",
    "print(f\" > Número de restrições = {nr}\");\n",
    "print(f\" > Matriz de Restrições = \\n {R}\");"
   ]
  },
  {
   "cell_type": "code",
   "execution_count": 74,
   "metadata": {},
   "outputs": [
    {
     "data": {
      "image/png": "[encoded data removed]",
      "text/plain": [
       "<Figure size 432x288 with 1 Axes>"
      ]
     },
     "metadata": {
      "needs_background": "light"
     },
     "output_type": "display_data"
    }
   ],
   "source": [
    "plota(N,Inc)"
   ]
  },
  {
   "cell_type": "code",
   "execution_count": 75,
   "metadata": {},
   "outputs": [],
   "source": [
    "class Node:\n",
    "    '''\n",
    "    Classe representante de um nó.\n",
    "    \n",
    "    > id        : Identificador único\n",
    "    > (x,y)     : Posicionamento no plano 2D\n",
    "    > gl        : Graus de liberdade do no (em x, em y)\n",
    "    > restricao : lista de restricao de movimento booleana (em x, em y) \n",
    "    \n",
    "    '''\n",
    "    \n",
    "    def __init__(self , id , x , y):\n",
    "        \n",
    "        self.id = id\n",
    "        self.x = x\n",
    "        self.y = y\n",
    "        \n",
    "    def distance(self , node):\n",
    "        return sqrt((node.x - self.x)**2 + (node.y - self.y)**2)\n",
    "    \n",
    "    def show_node(self):\n",
    "        print(f\" >> ID node: [{self.id}]\")\n",
    "        print(f\" >> Coordenadas [x,y]: ({self.x},{self.y})\")\n",
    "        #print(f\" >> Graus liberdade :  [{self.gl[0]},{self.gl[1]}]\")\n",
    "        #print(f\" >> Restricao :  x ={self.restriction[0]} e y ={self.restriction[1]}\")"
   ]
  },
  {
   "cell_type": "code",
   "execution_count": 76,
   "metadata": {},
   "outputs": [],
   "source": [
    "class Element:\n",
    "    '''\n",
    "    Classe representante de um elemento barra simples\n",
    "    \n",
    "    node1 - Nó que forma elemento\n",
    "    node2 - Nó que forma elemento \n",
    "    young_module  - Módulo de eleasticidade do elemento\n",
    "    area - área transversal\n",
    "    \n",
    "    '''\n",
    "    \n",
    "    def __init__(self, id , node1 , node2 , young_module , area):\n",
    "        \n",
    "        self.id = id\n",
    "        self.n1 = node1\n",
    "        self.n2 = node2\n",
    "        self.E  = young_module\n",
    "        self.A  = area\n",
    "         \n",
    "    def length(self):\n",
    "        '''\n",
    "        Tamanho do elemento em metros\n",
    "        '''\n",
    "        return self.n1.distance(self.n2)\n",
    "    \n",
    "    def k(self):\n",
    "        return (self.E*self.A)/self.length()\n",
    "        \n",
    "    def stiffness_matrix(self):\n",
    "        '''\n",
    "        Calcula matriz de rigidez do elemento\n",
    "        '''\n",
    "        \n",
    "        s = (self.n2.y - self.n1.y)/self.length()\n",
    "        c = (self.n2.x - self.n1.x)/self.length()\n",
    "        \n",
    "        matriz = np.array([[c**2 , c*s , -c**2 , -c*s],\n",
    "                           [c*s , s**2, -c*s , -s**2],\n",
    "                           [-c**2 , -c*s , c**2 , c*s],\n",
    "                           [-c*s , -s**2 , c*s ,  s**2]])\n",
    "        \n",
    "        return ((self.E*self.A)/self.lengh())*matriz\n",
    "        \n",
    "    def show_element(self):\n",
    "        print(f\" >> ID : [{self.id}]\")\n",
    "        print(f\" >> Young Module: {self.E}\")\n",
    "        print(f\" >> Area: {self.A}\")\n",
    "        print(f\" >> k = {self.k()}\")\n",
    "        print(f\" >> l = {self.length()}\")\n",
    "        print(\"----------- nodes -----------\")\n",
    "        no1.show_node()\n",
    "        no2.show_node()"
   ]
  },
  {
   "cell_type": "code",
   "execution_count": 77,
   "metadata": {},
   "outputs": [
    {
     "data": {
      "text/plain": [
       "array([[0. , 0. ],\n",
       "       [0. , 0.4],\n",
       "       [0.3, 0.4]])"
      ]
     },
     "execution_count": 77,
     "metadata": {},
     "output_type": "execute_result"
    }
   ],
   "source": [
    "matriz = np.zeros(shape=(len(N[0]), 2))\n",
    "for i in range(0,len(N[0])):\n",
    "    matriz[i][0] = N[0][i]\n",
    "for  j in range(0, len(N[1])):\n",
    "    matriz[j][1] = N[1][j]\n",
    "    \n",
    "matriz"
   ]
  },
  {
   "cell_type": "code",
   "execution_count": 78,
   "metadata": {},
   "outputs": [
    {
     "name": "stdout",
     "output_type": "stream",
     "text": [
      " >> ID node: [1]\n",
      " >> Coordenadas [x,y]: (0.0,0.0)\n",
      " >> ID node: [2]\n",
      " >> Coordenadas [x,y]: (0.3,0.0)\n",
      " >> ID node: [3]\n",
      " >> Coordenadas [x,y]: (0.4,0.4)\n"
     ]
    }
   ],
   "source": [
    "# Define os 3 nós:\n",
    "\n",
    "no1 = Node(1, N[0][0], N[0][1])\n",
    "no2 = Node(2, N[0][2], N[1][0])\n",
    "no3 = Node(3, N[1][1] , N[1][2])\n",
    "\n",
    "no1.show_node()\n",
    "no2.show_node()\n",
    "no3.show_node()"
   ]
  },
  {
   "cell_type": "code",
   "execution_count": 79,
   "metadata": {},
   "outputs": [],
   "source": [
    "# A cada 4 valores  de Inc tenho um elemento:\n",
    "columns_info_inc = 4;\n",
    "\n",
    "# A cada 2 valores de Coord tenho 1 nó:\n",
    "columns_info_coord = 2;"
   ]
  },
  {
   "cell_type": "code",
   "execution_count": 80,
   "metadata": {},
   "outputs": [
    {
     "name": "stdout",
     "output_type": "stream",
     "text": [
      "1\n",
      "2\n",
      "elemento 1 criado\n",
      " >> ID : [1]\n",
      " >> Young Module: 210000000000.0\n",
      " >> Area: 0.0002\n",
      " >> k = 105000000.0\n",
      " >> l = 0.4\n",
      "----------- nodes -----------\n",
      " >> ID node: [1]\n",
      " >> Coordenadas [x,y]: (0.0,0.0)\n",
      " >> ID node: [2]\n",
      " >> Coordenadas [x,y]: (0.0,0.4)\n",
      "2\n",
      "3\n",
      "elemento 2 criado\n",
      " >> ID : [2]\n",
      " >> Young Module: 210000000000.0\n",
      " >> Area: 0.0002\n",
      " >> k = 140000000.0\n",
      " >> l = 0.3\n",
      "----------- nodes -----------\n",
      " >> ID node: [2]\n",
      " >> Coordenadas [x,y]: (0.0,0.4)\n",
      " >> ID node: [3]\n",
      " >> Coordenadas [x,y]: (0.3,0.4)\n",
      "3\n",
      "1\n",
      "elemento 3 criado\n",
      " >> ID : [3]\n",
      " >> Young Module: 210000000000.0\n",
      " >> Area: 0.0002\n",
      " >> k = 84000000.0\n",
      " >> l = 0.5\n",
      "----------- nodes -----------\n",
      " >> ID node: [3]\n",
      " >> Coordenadas [x,y]: (0.3,0.4)\n",
      " >> ID node: [1]\n",
      " >> Coordenadas [x,y]: (0.0,0.0)\n"
     ]
    }
   ],
   "source": [
    "# Cria elementos 1 e 2 :\n",
    "list_elements  =[]\n",
    "\n",
    "\n",
    "id_element = 1;\n",
    "for linha in np.arange(nm):\n",
    "    \n",
    "    id_node1 = int(Inc[linha][0])\n",
    "    id_node2 = int(Inc[linha][1])\n",
    "    print(id_node1)\n",
    "    print(id_node2)\n",
    "    E = Inc[linha][2]\n",
    "    A = Inc[linha][3]\n",
    "    \n",
    "    no1 = Node(id_node1 , matriz[id_node1-1][0], matriz[id_node1 - 1][1])\n",
    "\n",
    "    no2 = Node(id_node2 , matriz[id_node2-1][0], matriz[id_node2-1][1])\n",
    "    \n",
    "    # Cria elemento:\n",
    "    elemento = Element(id_element, no1, no2 , E , A)\n",
    "    print(f\"elemento {id_element} criado\")\n",
    "    elemento.show_element()\n",
    "        \n",
    "    id_element+=1; \n",
    "    "
   ]
  },
  {
   "cell_type": "code",
   "execution_count": null,
   "metadata": {},
   "outputs": [],
   "source": []
  },
  {
   "cell_type": "code",
   "execution_count": null,
   "metadata": {},
   "outputs": [],
   "source": []
  }
 ],
 "metadata": {
  "kernelspec": {
   "display_name": "Python 3",
   "language": "python",
   "name": "python3"
  },
  "language_info": {
   "codemirror_mode": {
    "name": "ipython",
    "version": 3
   },
   "file_extension": ".py",
   "mimetype": "text/x-python",
   "name": "python",
   "nbconvert_exporter": "python",
   "pygments_lexer": "ipython3",
   "version": "3.8.5"
  }
 },
 "nbformat": 4,
 "nbformat_minor": 5
}
